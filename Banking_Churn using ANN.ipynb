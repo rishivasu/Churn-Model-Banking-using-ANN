{
 "cells": [
  {
   "cell_type": "markdown",
   "metadata": {},
   "source": [
    "# DATA PREPROCESSING"
   ]
  },
  {
   "cell_type": "code",
   "execution_count": 1,
   "metadata": {},
   "outputs": [],
   "source": [
    "#Importing Libraries\n",
    "import pandas as pd\n",
    "import numpy as np\n",
    "import matplotlib.pyplot as plt\n",
    "%matplotlib inline"
   ]
  },
  {
   "cell_type": "code",
   "execution_count": 2,
   "metadata": {},
   "outputs": [],
   "source": [
    "#Importing the datset and features from the dataset\n",
    "data=pd.read_csv('Churn_Modelling.csv')\n",
    "X=data.iloc[:,3:13].values\n",
    "y=data.iloc[:, 13].values"
   ]
  },
  {
   "cell_type": "code",
   "execution_count": 3,
   "metadata": {},
   "outputs": [
    {
     "name": "stderr",
     "output_type": "stream",
     "text": [
      "F:\\Anaconda3\\lib\\site-packages\\sklearn\\preprocessing\\_encoders.py:371: FutureWarning: The handling of integer data will change in version 0.22. Currently, the categories are determined based on the range [0, max(values)], while in the future they will be determined based on the unique values.\n",
      "If you want the future behaviour and silence this warning, you can specify \"categories='auto'\".\n",
      "In case you used a LabelEncoder before this OneHotEncoder to convert the categories to integers, then you can now use the OneHotEncoder directly.\n",
      "  warnings.warn(msg, FutureWarning)\n",
      "F:\\Anaconda3\\lib\\site-packages\\sklearn\\preprocessing\\_encoders.py:392: DeprecationWarning: The 'categorical_features' keyword is deprecated in version 0.20 and will be removed in 0.22. You can use the ColumnTransformer instead.\n",
      "  \"use the ColumnTransformer instead.\", DeprecationWarning)\n"
     ]
    }
   ],
   "source": [
    "#Dealing with Categorical Data...\n",
    "from sklearn.preprocessing import LabelEncoder,OneHotEncoder\n",
    "labelencoder_x1=LabelEncoder()\n",
    "X[:,1] = labelencoder_x1.fit_transform(X[:,1])\n",
    "labelencoder_x2=LabelEncoder()\n",
    "X[:,2] =labelencoder_x2.fit_transform(X[:,2])\n",
    "#onehotencoder for dummy variables if more than 2 cateogory are in column\n",
    "onehotencoder=OneHotEncoder(categorical_features=[1])\n",
    "X=onehotencoder.fit_transform(X).toarray()\n",
    "#Remove one dummy Variable due to avoid the Dummy Variable trap\n",
    "X=X[:,1:]"
   ]
  },
  {
   "cell_type": "code",
   "execution_count": 4,
   "metadata": {},
   "outputs": [],
   "source": [
    "#Splitting teh dataet into train and test\n",
    "from sklearn.model_selection import train_test_split\n",
    "X_train,X_test,y_train,y_test=train_test_split(X,y,test_size=0.2,random_state=0)"
   ]
  },
  {
   "cell_type": "code",
   "execution_count": 5,
   "metadata": {},
   "outputs": [],
   "source": [
    "#Apply feature scaling to Convert all data into particular range\n",
    "from sklearn.preprocessing import StandardScaler\n",
    "sc=StandardScaler()\n",
    "X_train=sc.fit_transform(X_train)\n",
    "X_test=sc.transform(X_test)"
   ]
  },
  {
   "cell_type": "markdown",
   "metadata": {},
   "source": [
    "# ANN MODELING"
   ]
  },
  {
   "cell_type": "code",
   "execution_count": 6,
   "metadata": {},
   "outputs": [
    {
     "name": "stderr",
     "output_type": "stream",
     "text": [
      "Using TensorFlow backend.\n"
     ]
    }
   ],
   "source": [
    "import keras"
   ]
  },
  {
   "cell_type": "code",
   "execution_count": 7,
   "metadata": {},
   "outputs": [],
   "source": [
    "from keras.models import Sequential #Use to intialize the ANN model\n",
    "from keras.layers import Dense      #Use to Create layers in Artificial neural network"
   ]
  },
  {
   "cell_type": "code",
   "execution_count": 8,
   "metadata": {},
   "outputs": [],
   "source": [
    "#Intialize the neural network\n",
    "classifier=Sequential()"
   ]
  },
  {
   "cell_type": "code",
   "execution_count": 9,
   "metadata": {},
   "outputs": [
    {
     "name": "stderr",
     "output_type": "stream",
     "text": [
      "F:\\Anaconda3\\lib\\site-packages\\ipykernel_launcher.py:2: UserWarning: Update your `Dense` call to the Keras 2 API: `Dense(activation=\"relu\", input_dim=11, units=6, kernel_initializer=\"uniform\")`\n",
      "  \n"
     ]
    },
    {
     "name": "stdout",
     "output_type": "stream",
     "text": [
      "WARNING:tensorflow:From F:\\Anaconda3\\lib\\site-packages\\tensorflow\\python\\framework\\op_def_library.py:263: colocate_with (from tensorflow.python.framework.ops) is deprecated and will be removed in a future version.\n",
      "Instructions for updating:\n",
      "Colocations handled automatically by placer.\n"
     ]
    }
   ],
   "source": [
    "#Add first layer and first hidden layer\n",
    "classifier.add(Dense(output_dim=6 , init ='uniform' , activation='relu',input_dim=11))"
   ]
  },
  {
   "cell_type": "code",
   "execution_count": 11,
   "metadata": {},
   "outputs": [
    {
     "name": "stderr",
     "output_type": "stream",
     "text": [
      "F:\\Anaconda3\\lib\\site-packages\\ipykernel_launcher.py:2: UserWarning: Update your `Dense` call to the Keras 2 API: `Dense(activation=\"relu\", units=6, kernel_initializer=\"uniform\")`\n",
      "  \n"
     ]
    }
   ],
   "source": [
    "#Second hidden layer\n",
    "classifier.add(Dense(output_dim=6 , init ='uniform' , activation='relu'))"
   ]
  },
  {
   "cell_type": "code",
   "execution_count": 12,
   "metadata": {},
   "outputs": [
    {
     "name": "stderr",
     "output_type": "stream",
     "text": [
      "F:\\Anaconda3\\lib\\site-packages\\ipykernel_launcher.py:2: UserWarning: Update your `Dense` call to the Keras 2 API: `Dense(activation=\"sigmoid\", units=1, kernel_initializer=\"uniform\")`\n",
      "  \n"
     ]
    }
   ],
   "source": [
    "#Final hidden layer\n",
    "classifier.add(Dense(output_dim=1 , init ='uniform' , activation='sigmoid'))"
   ]
  },
  {
   "cell_type": "code",
   "execution_count": 13,
   "metadata": {},
   "outputs": [],
   "source": [
    "#Compiling the ANN model\n",
    "classifier.compile(optimizer='adam'  , loss='binary_crossentropy' , metrics=['accuracy'])"
   ]
  },
  {
   "cell_type": "code",
   "execution_count": 14,
   "metadata": {},
   "outputs": [
    {
     "name": "stdout",
     "output_type": "stream",
     "text": [
      "WARNING:tensorflow:From F:\\Anaconda3\\lib\\site-packages\\tensorflow\\python\\ops\\math_ops.py:3066: to_int32 (from tensorflow.python.ops.math_ops) is deprecated and will be removed in a future version.\n",
      "Instructions for updating:\n",
      "Use tf.cast instead.\n",
      "Epoch 1/100\n",
      "8000/8000 [==============================] - 4s 447us/step - loss: 0.4858 - acc: 0.7955\n",
      "Epoch 2/100\n",
      "8000/8000 [==============================] - 1s 118us/step - loss: 0.4286 - acc: 0.7960\n",
      "Epoch 3/100\n",
      "8000/8000 [==============================] - 1s 105us/step - loss: 0.4221 - acc: 0.8075\n",
      "Epoch 4/100\n",
      "8000/8000 [==============================] - 1s 102us/step - loss: 0.4187 - acc: 0.8231\n",
      "Epoch 5/100\n",
      "8000/8000 [==============================] - 1s 107us/step - loss: 0.4172 - acc: 0.8289\n",
      "Epoch 6/100\n",
      "8000/8000 [==============================] - 1s 104us/step - loss: 0.4146 - acc: 0.8305\n",
      "Epoch 7/100\n",
      "8000/8000 [==============================] - 1s 112us/step - loss: 0.4132 - acc: 0.8311\n",
      "Epoch 8/100\n",
      "8000/8000 [==============================] - 1s 131us/step - loss: 0.4117 - acc: 0.8317\n",
      "Epoch 9/100\n",
      "8000/8000 [==============================] - 1s 139us/step - loss: 0.4105 - acc: 0.8332\n",
      "Epoch 10/100\n",
      "8000/8000 [==============================] - 1s 142us/step - loss: 0.4097 - acc: 0.8339\n",
      "Epoch 11/100\n",
      "8000/8000 [==============================] - 1s 113us/step - loss: 0.4087 - acc: 0.8337\n",
      "Epoch 12/100\n",
      "8000/8000 [==============================] - 1s 107us/step - loss: 0.4080 - acc: 0.8350\n",
      "Epoch 13/100\n",
      "8000/8000 [==============================] - 1s 109us/step - loss: 0.4079 - acc: 0.8337\n",
      "Epoch 14/100\n",
      "8000/8000 [==============================] - 1s 109us/step - loss: 0.4068 - acc: 0.8351\n",
      "Epoch 15/100\n",
      "8000/8000 [==============================] - 1s 112us/step - loss: 0.4068 - acc: 0.8329\n",
      "Epoch 16/100\n",
      "8000/8000 [==============================] - 1s 112us/step - loss: 0.4067 - acc: 0.8342\n",
      "Epoch 17/100\n",
      "8000/8000 [==============================] - 1s 117us/step - loss: 0.4056 - acc: 0.8339\n",
      "Epoch 18/100\n",
      "8000/8000 [==============================] - 1s 108us/step - loss: 0.4053 - acc: 0.8349\n",
      "Epoch 19/100\n",
      "8000/8000 [==============================] - 1s 105us/step - loss: 0.4052 - acc: 0.8346\n",
      "Epoch 20/100\n",
      "8000/8000 [==============================] - 1s 106us/step - loss: 0.4047 - acc: 0.8352\n",
      "Epoch 21/100\n",
      "8000/8000 [==============================] - 1s 105us/step - loss: 0.4041 - acc: 0.8345\n",
      "Epoch 22/100\n",
      "8000/8000 [==============================] - 1s 105us/step - loss: 0.4038 - acc: 0.8354\n",
      "Epoch 23/100\n",
      "8000/8000 [==============================] - 1s 106us/step - loss: 0.4041 - acc: 0.8346\n",
      "Epoch 24/100\n",
      "8000/8000 [==============================] - 1s 119us/step - loss: 0.4037 - acc: 0.8340\n",
      "Epoch 25/100\n",
      "8000/8000 [==============================] - 1s 112us/step - loss: 0.4035 - acc: 0.8356\n",
      "Epoch 26/100\n",
      "8000/8000 [==============================] - 1s 124us/step - loss: 0.4030 - acc: 0.8340\n",
      "Epoch 27/100\n",
      "8000/8000 [==============================] - 1s 137us/step - loss: 0.4030 - acc: 0.8345\n",
      "Epoch 28/100\n",
      "8000/8000 [==============================] - 1s 134us/step - loss: 0.4030 - acc: 0.8355\n",
      "Epoch 29/100\n",
      "8000/8000 [==============================] - 1s 113us/step - loss: 0.4023 - acc: 0.8354\n",
      "Epoch 30/100\n",
      "8000/8000 [==============================] - 1s 114us/step - loss: 0.4025 - acc: 0.8351\n",
      "Epoch 31/100\n",
      "8000/8000 [==============================] - 1s 121us/step - loss: 0.4022 - acc: 0.8359\n",
      "Epoch 32/100\n",
      "8000/8000 [==============================] - 1s 106us/step - loss: 0.4027 - acc: 0.8342\n",
      "Epoch 33/100\n",
      "8000/8000 [==============================] - 1s 107us/step - loss: 0.4020 - acc: 0.8341\n",
      "Epoch 34/100\n",
      "8000/8000 [==============================] - 1s 105us/step - loss: 0.4023 - acc: 0.8345\n",
      "Epoch 35/100\n",
      "8000/8000 [==============================] - 1s 106us/step - loss: 0.4019 - acc: 0.8364\n",
      "Epoch 36/100\n",
      "8000/8000 [==============================] - 1s 105us/step - loss: 0.4018 - acc: 0.8344\n",
      "Epoch 37/100\n",
      "8000/8000 [==============================] - 1s 105us/step - loss: 0.4017 - acc: 0.8341\n",
      "Epoch 38/100\n",
      "8000/8000 [==============================] - 1s 111us/step - loss: 0.4015 - acc: 0.8346\n",
      "Epoch 39/100\n",
      "8000/8000 [==============================] - 1s 126us/step - loss: 0.4014 - acc: 0.8351\n",
      "Epoch 40/100\n",
      "8000/8000 [==============================] - 1s 107us/step - loss: 0.4018 - acc: 0.8337\n",
      "Epoch 41/100\n",
      "8000/8000 [==============================] - 1s 124us/step - loss: 0.4017 - acc: 0.8355\n",
      "Epoch 42/100\n",
      "8000/8000 [==============================] - 1s 114us/step - loss: 0.4012 - acc: 0.8331\n",
      "Epoch 43/100\n",
      "8000/8000 [==============================] - 1s 113us/step - loss: 0.4009 - acc: 0.8347\n",
      "Epoch 44/100\n",
      "8000/8000 [==============================] - 1s 125us/step - loss: 0.4011 - acc: 0.8349\n",
      "Epoch 45/100\n",
      "8000/8000 [==============================] - 1s 133us/step - loss: 0.4011 - acc: 0.8354\n",
      "Epoch 46/100\n",
      "8000/8000 [==============================] - 1s 114us/step - loss: 0.4014 - acc: 0.8326\n",
      "Epoch 47/100\n",
      "8000/8000 [==============================] - 1s 112us/step - loss: 0.4008 - acc: 0.8341\n",
      "Epoch 48/100\n",
      "8000/8000 [==============================] - 1s 115us/step - loss: 0.4016 - acc: 0.8329\n",
      "Epoch 49/100\n",
      "8000/8000 [==============================] - 1s 107us/step - loss: 0.4013 - acc: 0.8345\n",
      "Epoch 50/100\n",
      "8000/8000 [==============================] - 1s 107us/step - loss: 0.4012 - acc: 0.8337\n",
      "Epoch 51/100\n",
      "8000/8000 [==============================] - 1s 110us/step - loss: 0.4012 - acc: 0.8339\n",
      "Epoch 52/100\n",
      "8000/8000 [==============================] - 1s 108us/step - loss: 0.4015 - acc: 0.8345\n",
      "Epoch 53/100\n",
      "8000/8000 [==============================] - 1s 110us/step - loss: 0.4011 - acc: 0.8357\n",
      "Epoch 54/100\n",
      "8000/8000 [==============================] - 1s 116us/step - loss: 0.4005 - acc: 0.8349\n",
      "Epoch 55/100\n",
      "8000/8000 [==============================] - 1s 126us/step - loss: 0.4014 - acc: 0.8350\n",
      "Epoch 56/100\n",
      "8000/8000 [==============================] - 1s 131us/step - loss: 0.4006 - acc: 0.8339\n",
      "Epoch 57/100\n",
      "8000/8000 [==============================] - 1s 114us/step - loss: 0.4008 - acc: 0.8341\n",
      "Epoch 58/100\n",
      "8000/8000 [==============================] - 1s 119us/step - loss: 0.4006 - acc: 0.8347\n",
      "Epoch 59/100\n",
      "8000/8000 [==============================] - 1s 114us/step - loss: 0.4007 - acc: 0.8342\n",
      "Epoch 60/100\n",
      "8000/8000 [==============================] - 1s 113us/step - loss: 0.4008 - acc: 0.8340\n",
      "Epoch 61/100\n",
      "8000/8000 [==============================] - 1s 113us/step - loss: 0.4006 - acc: 0.8335\n",
      "Epoch 62/100\n",
      "8000/8000 [==============================] - 1s 139us/step - loss: 0.4007 - acc: 0.8351\n",
      "Epoch 63/100\n",
      "8000/8000 [==============================] - 1s 113us/step - loss: 0.4007 - acc: 0.8346\n",
      "Epoch 64/100\n",
      "8000/8000 [==============================] - 1s 112us/step - loss: 0.4008 - acc: 0.8350\n",
      "Epoch 65/100\n",
      "8000/8000 [==============================] - 1s 107us/step - loss: 0.4003 - acc: 0.8337\n",
      "Epoch 66/100\n",
      "8000/8000 [==============================] - 1s 115us/step - loss: 0.4009 - acc: 0.8344\n",
      "Epoch 67/100\n",
      "8000/8000 [==============================] - 1s 122us/step - loss: 0.4005 - acc: 0.8341\n",
      "Epoch 68/100\n",
      "8000/8000 [==============================] - 1s 124us/step - loss: 0.4009 - acc: 0.8346\n",
      "Epoch 69/100\n",
      "8000/8000 [==============================] - 1s 113us/step - loss: 0.4001 - acc: 0.8342\n",
      "Epoch 70/100\n",
      "8000/8000 [==============================] - 1s 123us/step - loss: 0.4004 - acc: 0.8354\n",
      "Epoch 71/100\n",
      "8000/8000 [==============================] - 1s 125us/step - loss: 0.4009 - acc: 0.8359\n",
      "Epoch 72/100\n",
      "8000/8000 [==============================] - 1s 132us/step - loss: 0.4009 - acc: 0.8339\n",
      "Epoch 73/100\n",
      "8000/8000 [==============================] - 1s 133us/step - loss: 0.4004 - acc: 0.8355 1s - loss: 0.\n",
      "Epoch 74/100\n",
      "8000/8000 [==============================] - 1s 137us/step - loss: 0.4002 - acc: 0.8332\n",
      "Epoch 75/100\n",
      "8000/8000 [==============================] - 1s 133us/step - loss: 0.4008 - acc: 0.8336\n",
      "Epoch 76/100\n",
      "8000/8000 [==============================] - 1s 129us/step - loss: 0.4002 - acc: 0.8344\n",
      "Epoch 77/100\n",
      "8000/8000 [==============================] - 1s 129us/step - loss: 0.4006 - acc: 0.8351\n",
      "Epoch 78/100\n",
      "8000/8000 [==============================] - 1s 153us/step - loss: 0.4007 - acc: 0.8330\n",
      "Epoch 79/100\n"
     ]
    },
    {
     "name": "stdout",
     "output_type": "stream",
     "text": [
      "8000/8000 [==============================] - 1s 130us/step - loss: 0.4005 - acc: 0.8345\n",
      "Epoch 80/100\n",
      "8000/8000 [==============================] - 1s 128us/step - loss: 0.4007 - acc: 0.8345\n",
      "Epoch 81/100\n",
      "8000/8000 [==============================] - 1s 116us/step - loss: 0.4007 - acc: 0.8351\n",
      "Epoch 82/100\n",
      "8000/8000 [==============================] - 1s 115us/step - loss: 0.3998 - acc: 0.8357\n",
      "Epoch 83/100\n",
      "8000/8000 [==============================] - 1s 117us/step - loss: 0.4003 - acc: 0.8357\n",
      "Epoch 84/100\n",
      "8000/8000 [==============================] - 1s 116us/step - loss: 0.4003 - acc: 0.8334\n",
      "Epoch 85/100\n",
      "8000/8000 [==============================] - 1s 140us/step - loss: 0.3999 - acc: 0.8337 0s - loss: 0.40\n",
      "Epoch 86/100\n",
      "8000/8000 [==============================] - 1s 126us/step - loss: 0.4005 - acc: 0.8367\n",
      "Epoch 87/100\n",
      "8000/8000 [==============================] - 1s 121us/step - loss: 0.4000 - acc: 0.8359\n",
      "Epoch 88/100\n",
      "8000/8000 [==============================] - 1s 137us/step - loss: 0.4000 - acc: 0.8354\n",
      "Epoch 89/100\n",
      "8000/8000 [==============================] - 1s 139us/step - loss: 0.4005 - acc: 0.8339\n",
      "Epoch 90/100\n",
      "8000/8000 [==============================] - 1s 119us/step - loss: 0.3999 - acc: 0.8341\n",
      "Epoch 91/100\n",
      "8000/8000 [==============================] - 1s 125us/step - loss: 0.3995 - acc: 0.8352\n",
      "Epoch 92/100\n",
      "8000/8000 [==============================] - 1s 124us/step - loss: 0.4009 - acc: 0.8339\n",
      "Epoch 93/100\n",
      "8000/8000 [==============================] - 1s 129us/step - loss: 0.4006 - acc: 0.8354\n",
      "Epoch 94/100\n",
      "8000/8000 [==============================] - 1s 147us/step - loss: 0.4002 - acc: 0.8341\n",
      "Epoch 95/100\n",
      "8000/8000 [==============================] - 1s 127us/step - loss: 0.3997 - acc: 0.8346\n",
      "Epoch 96/100\n",
      "8000/8000 [==============================] - 1s 127us/step - loss: 0.3998 - acc: 0.8339\n",
      "Epoch 97/100\n",
      "8000/8000 [==============================] - 1s 130us/step - loss: 0.4006 - acc: 0.8330\n",
      "Epoch 98/100\n",
      "8000/8000 [==============================] - 1s 126us/step - loss: 0.4002 - acc: 0.8352\n",
      "Epoch 99/100\n",
      "8000/8000 [==============================] - 1s 125us/step - loss: 0.4011 - acc: 0.8347\n",
      "Epoch 100/100\n",
      "8000/8000 [==============================] - 1s 128us/step - loss: 0.4001 - acc: 0.8346\n"
     ]
    },
    {
     "data": {
      "text/plain": [
       "<keras.callbacks.History at 0x1d380331908>"
      ]
     },
     "execution_count": 14,
     "metadata": {},
     "output_type": "execute_result"
    }
   ],
   "source": [
    "#Fitting the ANN\n",
    "classifier.fit(X_train,y_train,batch_size=10,epochs=100)"
   ]
  },
  {
   "cell_type": "code",
   "execution_count": 15,
   "metadata": {},
   "outputs": [],
   "source": [
    "#Preicting the values\n",
    "y_pred=classifier.predict(X_test)\n",
    "y_pred=(y_pred > 0.5)"
   ]
  },
  {
   "cell_type": "code",
   "execution_count": 17,
   "metadata": {},
   "outputs": [],
   "source": [
    "from sklearn.metrics import confusion_matrix\n",
    "cm = confusion_matrix(y_test,y_pred)"
   ]
  },
  {
   "cell_type": "code",
   "execution_count": 18,
   "metadata": {},
   "outputs": [
    {
     "data": {
      "text/plain": [
       "array([[1539,   56],\n",
       "       [ 267,  138]], dtype=int64)"
      ]
     },
     "execution_count": 18,
     "metadata": {},
     "output_type": "execute_result"
    }
   ],
   "source": [
    "cm"
   ]
  },
  {
   "cell_type": "code",
   "execution_count": 19,
   "metadata": {},
   "outputs": [
    {
     "data": {
      "text/plain": [
       "0.8385"
      ]
     },
     "execution_count": 19,
     "metadata": {},
     "output_type": "execute_result"
    }
   ],
   "source": [
    "(1539+138)/2000"
   ]
  },
  {
   "cell_type": "code",
   "execution_count": null,
   "metadata": {},
   "outputs": [],
   "source": []
  },
  {
   "cell_type": "code",
   "execution_count": null,
   "metadata": {},
   "outputs": [],
   "source": []
  },
  {
   "cell_type": "code",
   "execution_count": null,
   "metadata": {},
   "outputs": [],
   "source": []
  },
  {
   "cell_type": "code",
   "execution_count": null,
   "metadata": {},
   "outputs": [],
   "source": []
  }
 ],
 "metadata": {
  "kernelspec": {
   "display_name": "Python 3",
   "language": "python",
   "name": "python3"
  },
  "language_info": {
   "codemirror_mode": {
    "name": "ipython",
    "version": 3
   },
   "file_extension": ".py",
   "mimetype": "text/x-python",
   "name": "python",
   "nbconvert_exporter": "python",
   "pygments_lexer": "ipython3",
   "version": "3.6.5"
  }
 },
 "nbformat": 4,
 "nbformat_minor": 2
}
